{
  "nbformat": 4,
  "nbformat_minor": 0,
  "metadata": {
    "colab": {
      "provenance": []
    },
    "kernelspec": {
      "name": "python3",
      "display_name": "Python 3"
    },
    "language_info": {
      "name": "python"
    }
  },
  "cells": [
    {
      "cell_type": "code",
      "source": [
        "!pip install openai"
      ],
      "metadata": {
        "colab": {
          "base_uri": "https://localhost:8080/"
        },
        "id": "zjS7BLHOSOOh",
        "outputId": "665d35d9-61bd-4f1d-a8e2-e33e1b7c5961"
      },
      "execution_count": null,
      "outputs": [
        {
          "output_type": "stream",
          "name": "stdout",
          "text": [
            "Looking in indexes: https://pypi.org/simple, https://us-python.pkg.dev/colab-wheels/public/simple/\n",
            "Collecting openai\n",
            "  Downloading openai-0.27.0-py3-none-any.whl (70 kB)\n",
            "\u001b[?25l     \u001b[90m━━━━━━━━━━━━━━━━━━━━━━━━━━━━━━━━━━━━━━━━\u001b[0m \u001b[32m0.0/70.1 KB\u001b[0m \u001b[31m?\u001b[0m eta \u001b[36m-:--:--\u001b[0m\r\u001b[2K     \u001b[90m━━━━━━━━━━━━━━━━━━━━━━━━━━━━━━━━━━━━━━━━\u001b[0m \u001b[32m70.1/70.1 KB\u001b[0m \u001b[31m6.7 MB/s\u001b[0m eta \u001b[36m0:00:00\u001b[0m\n",
            "\u001b[?25hRequirement already satisfied: tqdm in /usr/local/lib/python3.8/dist-packages (from openai) (4.64.1)\n",
            "Requirement already satisfied: requests>=2.20 in /usr/local/lib/python3.8/dist-packages (from openai) (2.25.1)\n",
            "Requirement already satisfied: aiohttp in /usr/local/lib/python3.8/dist-packages (from openai) (3.8.4)\n",
            "Requirement already satisfied: idna<3,>=2.5 in /usr/local/lib/python3.8/dist-packages (from requests>=2.20->openai) (2.10)\n",
            "Requirement already satisfied: chardet<5,>=3.0.2 in /usr/local/lib/python3.8/dist-packages (from requests>=2.20->openai) (4.0.0)\n",
            "Requirement already satisfied: urllib3<1.27,>=1.21.1 in /usr/local/lib/python3.8/dist-packages (from requests>=2.20->openai) (1.26.14)\n",
            "Requirement already satisfied: certifi>=2017.4.17 in /usr/local/lib/python3.8/dist-packages (from requests>=2.20->openai) (2022.12.7)\n",
            "Requirement already satisfied: async-timeout<5.0,>=4.0.0a3 in /usr/local/lib/python3.8/dist-packages (from aiohttp->openai) (4.0.2)\n",
            "Requirement already satisfied: attrs>=17.3.0 in /usr/local/lib/python3.8/dist-packages (from aiohttp->openai) (22.2.0)\n",
            "Requirement already satisfied: yarl<2.0,>=1.0 in /usr/local/lib/python3.8/dist-packages (from aiohttp->openai) (1.8.2)\n",
            "Requirement already satisfied: multidict<7.0,>=4.5 in /usr/local/lib/python3.8/dist-packages (from aiohttp->openai) (6.0.4)\n",
            "Requirement already satisfied: aiosignal>=1.1.2 in /usr/local/lib/python3.8/dist-packages (from aiohttp->openai) (1.3.1)\n",
            "Requirement already satisfied: frozenlist>=1.1.1 in /usr/local/lib/python3.8/dist-packages (from aiohttp->openai) (1.3.3)\n",
            "Requirement already satisfied: charset-normalizer<4.0,>=2.0 in /usr/local/lib/python3.8/dist-packages (from aiohttp->openai) (3.0.1)\n",
            "Installing collected packages: openai\n",
            "Successfully installed openai-0.27.0\n"
          ]
        }
      ]
    },
    {
      "cell_type": "code",
      "source": [
        "import json\n",
        "\n",
        "OPENAI_API_KEY = ''\n",
        "with open('/content/OpenAI.json', 'r') as file_to_read:\n",
        "    json_data = json.load(file_to_read)\n",
        "    OPENAI_API_KEY = json_data[\"OPENAI_API_KEY\"]"
      ],
      "metadata": {
        "id": "mAwAsYWnSMON"
      },
      "execution_count": null,
      "outputs": []
    },
    {
      "cell_type": "code",
      "source": [
        "import os\n",
        "import openai\n",
        "\n",
        "openai.api_key =  OPENAI_API_KEY"
      ],
      "metadata": {
        "id": "G7e7CedHSWPG"
      },
      "execution_count": null,
      "outputs": []
    },
    {
      "cell_type": "code",
      "source": [
        "response = openai.ChatCompletion.create(\n",
        "  model=\"gpt-3.5-turbo\",\n",
        "  messages=[\n",
        "        {\"role\": \"system\", \"content\": \"You are a helpful assistant.\"},\n",
        "        {\"role\": \"user\", \"content\": \"What is SVM?\"},\n",
        "    ]\n",
        ")"
      ],
      "metadata": {
        "id": "qVpdl1-AS4vD"
      },
      "execution_count": null,
      "outputs": []
    },
    {
      "cell_type": "code",
      "source": [
        "response"
      ],
      "metadata": {
        "colab": {
          "base_uri": "https://localhost:8080/"
        },
        "id": "XVuoFotZT0qD",
        "outputId": "190056c0-454a-4303-d027-b3f26b7df596"
      },
      "execution_count": null,
      "outputs": [
        {
          "output_type": "execute_result",
          "data": {
            "text/plain": [
              "<OpenAIObject chat.completion id=chatcmpl-6pU0zXAfrua9ko0KdN5fjWLP8t0Sp at 0x7efd3bb485e0> JSON: {\n",
              "  \"choices\": [\n",
              "    {\n",
              "      \"finish_reason\": \"stop\",\n",
              "      \"index\": 0,\n",
              "      \"message\": {\n",
              "        \"content\": \"\\n\\nSVM stands for Support Vector Machines. It is a classification algorithm used in machine learning and data mining. SVM tries to find a hyperplane that maximally separates the classes in a dataset, making it a powerful tool for solving classification problems with complex boundaries. SVM can also handle high dimensionality data well, making it a popular choice in applications such as image recognition, text classification, and bioinformatics.\",\n",
              "        \"role\": \"assistant\"\n",
              "      }\n",
              "    }\n",
              "  ],\n",
              "  \"created\": 1677728125,\n",
              "  \"id\": \"chatcmpl-6pU0zXAfrua9ko0KdN5fjWLP8t0Sp\",\n",
              "  \"model\": \"gpt-3.5-turbo-0301\",\n",
              "  \"object\": \"chat.completion\",\n",
              "  \"usage\": {\n",
              "    \"completion_tokens\": 82,\n",
              "    \"prompt_tokens\": 22,\n",
              "    \"total_tokens\": 104\n",
              "  }\n",
              "}"
            ]
          },
          "metadata": {},
          "execution_count": 37
        }
      ]
    },
    {
      "cell_type": "code",
      "source": [
        "response[\"choices\"][0][\"message\"]\n"
      ],
      "metadata": {
        "colab": {
          "base_uri": "https://localhost:8080/"
        },
        "id": "d0aQ3d2zT3QM",
        "outputId": "6659f6b9-cb2e-44c6-8106-584ae8e43f3d"
      },
      "execution_count": null,
      "outputs": [
        {
          "output_type": "execute_result",
          "data": {
            "text/plain": [
              "<OpenAIObject at 0x7efd3bb66310> JSON: {\n",
              "  \"content\": \"\\n\\nSVM stands for Support Vector Machines. It is a classification algorithm used in machine learning and data mining. SVM tries to find a hyperplane that maximally separates the classes in a dataset, making it a powerful tool for solving classification problems with complex boundaries. SVM can also handle high dimensionality data well, making it a popular choice in applications such as image recognition, text classification, and bioinformatics.\",\n",
              "  \"role\": \"assistant\"\n",
              "}"
            ]
          },
          "metadata": {},
          "execution_count": 38
        }
      ]
    },
    {
      "cell_type": "code",
      "source": [
        " messages=[\n",
        "        {\"role\": \"system\", \"content\": \"You are a helpful assistant.\"},\n",
        "        {\"role\": \"user\", \"content\": \"What is SVM?\"},\n",
        "    ]"
      ],
      "metadata": {
        "id": "_Jfe6D2yTVp4"
      },
      "execution_count": null,
      "outputs": []
    },
    {
      "cell_type": "code",
      "source": [
        "messages.append(response[\"choices\"][0][\"message\"])"
      ],
      "metadata": {
        "id": "O8KzKYlaTkz8"
      },
      "execution_count": null,
      "outputs": []
    },
    {
      "cell_type": "code",
      "source": [
        "message={\"role\":\"user\",\"content\":\"What is the math behind SVM\"}"
      ],
      "metadata": {
        "id": "MxIFw5QMUQ7S"
      },
      "execution_count": null,
      "outputs": []
    },
    {
      "cell_type": "code",
      "source": [
        "messages.append(message)"
      ],
      "metadata": {
        "id": "tDUrvb0tUaxy"
      },
      "execution_count": null,
      "outputs": []
    },
    {
      "cell_type": "code",
      "source": [
        "messages"
      ],
      "metadata": {
        "colab": {
          "base_uri": "https://localhost:8080/"
        },
        "id": "UtVh53ZaZQEy",
        "outputId": "d8ce0534-b4cc-4260-e6c0-199729c9ebde"
      },
      "execution_count": null,
      "outputs": [
        {
          "output_type": "execute_result",
          "data": {
            "text/plain": [
              "[{'role': 'system', 'content': 'You are a helpful assistant.'},\n",
              " {'role': 'user', 'content': 'What is SVM?'},\n",
              " <OpenAIObject at 0x7efd3bb66310> JSON: {\n",
              "   \"content\": \"\\n\\nSVM stands for Support Vector Machines. It is a classification algorithm used in machine learning and data mining. SVM tries to find a hyperplane that maximally separates the classes in a dataset, making it a powerful tool for solving classification problems with complex boundaries. SVM can also handle high dimensionality data well, making it a popular choice in applications such as image recognition, text classification, and bioinformatics.\",\n",
              "   \"role\": \"assistant\"\n",
              " },\n",
              " {'role': 'user', 'content': 'What is the math behind SVM'}]"
            ]
          },
          "metadata": {},
          "execution_count": 44
        }
      ]
    },
    {
      "cell_type": "code",
      "source": [
        "response = openai.ChatCompletion.create(\n",
        "  model=\"gpt-3.5-turbo\",\n",
        "  messages=messages\n",
        ")"
      ],
      "metadata": {
        "id": "tThCQl6PUoUB"
      },
      "execution_count": null,
      "outputs": []
    },
    {
      "cell_type": "code",
      "source": [
        "response"
      ],
      "metadata": {
        "colab": {
          "base_uri": "https://localhost:8080/"
        },
        "id": "ODf1PZQEUvAp",
        "outputId": "1decf908-6de5-4315-ce70-6a47a18a5435"
      },
      "execution_count": null,
      "outputs": [
        {
          "output_type": "execute_result",
          "data": {
            "text/plain": [
              "<OpenAIObject chat.completion id=chatcmpl-6pU35oAAXAnLwlZyFsGzqwb4J5u0q at 0x7efd3bb0e4a0> JSON: {\n",
              "  \"choices\": [\n",
              "    {\n",
              "      \"finish_reason\": \"stop\",\n",
              "      \"index\": 0,\n",
              "      \"message\": {\n",
              "        \"content\": \"The math behind SVM can be quite complex, but here is a brief overview of how SVM works:\\n\\nGiven a set of labeled training data, SVM aims to find the hyperplane that maximizes the margin between the two classes. The hyperplane can be represented by the equation:\\n\\nw\\u22c5x + b = 0\\n\\nwhere w is the normal vector to the hyperplane and b is the bias term. The margin is the distance between the hyperplane and the closest training samples. SVM tries to find the hyperplane that maximizes the margin, subject to the condition that all training data is classified correctly.\\n\\nIn practice, SVM uses a technique called kernel trick to transform the input data into a higher-dimensional feature space, where it may be easier to find a hyperplane that separates the data. This can be done by replacing the inner product of the input vectors with a kernel function that computes the inner product in the higher-dimensional space.\\n\\nOnce the hyperplane is found, new data can be classified by projecting it onto the hyperplane using the above equation. If the result is positive, the new data belongs to one class, otherwise it belongs to the other class.\\n\\nSVM can also handle nonlinear classification problems by using a kernel function that maps the data into a higher-dimensional feature space, allowing for nonlinear decision boundaries.\",\n",
              "        \"role\": \"assistant\"\n",
              "      }\n",
              "    }\n",
              "  ],\n",
              "  \"created\": 1677728255,\n",
              "  \"id\": \"chatcmpl-6pU35oAAXAnLwlZyFsGzqwb4J5u0q\",\n",
              "  \"model\": \"gpt-3.5-turbo-0301\",\n",
              "  \"object\": \"chat.completion\",\n",
              "  \"usage\": {\n",
              "    \"completion_tokens\": 266,\n",
              "    \"prompt_tokens\": 119,\n",
              "    \"total_tokens\": 385\n",
              "  }\n",
              "}"
            ]
          },
          "metadata": {},
          "execution_count": 46
        }
      ]
    },
    {
      "cell_type": "code",
      "source": [
        "  while True:\n",
        "    text=input()\n",
        "    message={\"role\":\"user\",\"content\":text}\n",
        "    messages.append(message)\n",
        "    response = openai.ChatCompletion.create( model=\"gpt-3.5-turbo\", messages=messages )\n",
        "    print(response[\"choices\"][0][\"message\"][\"content\"])\n",
        "    messages.append(response[\"choices\"][0][\"message\"])\n"
      ],
      "metadata": {
        "colab": {
          "base_uri": "https://localhost:8080/",
          "height": 1000
        },
        "id": "KQqCm_0AWq6o",
        "outputId": "f394b4d7-bc86-434f-d4dc-1e9edab5e755"
      },
      "execution_count": null,
      "outputs": [
        {
          "output_type": "stream",
          "name": "stdout",
          "text": [
            "What are some applications of SVM in image processing\n",
            "\n",
            "\n",
            "SVM has been used in a variety of image processing applications, including:\n",
            "\n",
            "1. Image classification: SVM can be used to classify images into different categories based on their features. For example, it can be used to classify different types of flowers in a digital image.\n",
            "\n",
            "2. Object detection: SVM can be used to detect objects in an image by training it on positive and negative examples of the object. For example, it can be used to detect faces in an image.\n",
            "\n",
            "3. Image segmentation: SVM can be used to segment an image into different regions based on certain features. For example, it can be used to separate the foreground and background in an image.\n",
            "\n",
            "4. Image retrieval: SVM can be used to retrieve similar images from a database based on their features. For example, it can be used to retrieve images of vehicles similar to a given query image.\n",
            "What kind of features can be extracted from images for image classification\n",
            "There are many different types of features that can be extracted from images to be used in image classification, including:\n",
            "\n",
            "1. Color-based features: These features are based on the color distribution or color histogram of the image.\n",
            "\n",
            "2. Texture-based features: These features are based on statistical analysis of the texture patterns in the image.\n",
            "\n",
            "3. Shape-based features: These features are based on the geometric shape of objects in the image.\n",
            "\n",
            "4. Edge-based features: These features are based on the distribution of edges in the image.\n",
            "\n",
            "5. Frequency-based features: These features are based on the frequency distribution of the image content.\n",
            "\n",
            "6. Gradient-based features: These features are based on the magnitude and direction of the gradient of the image.\n",
            "\n",
            "7. Deep learning-based features: These features are extracted by passing the image through a deep neural network trained to extract features from images.\n",
            "\n",
            "The choice of features to extract depends on the specific application and the type of images being classified. The feature extraction process is critical for the performance of the image classification system as it directly affects the accuracy of the classification.\n",
            "how can  these feature be fed into a SVM\n",
            "Once the features are extracted from the images, they can be fed into the Support Vector Machine (SVM) for classification. The SVM is a supervised learning algorithm and requires labeled data to train the classifier.\n",
            "\n",
            "In SVM, the features extracted from the images are used as input to the algorithm. The features are typically represented as a vector of numerical values, with each element of the vector representing a different feature. These feature vectors are then used as input to the SVM for training.\n",
            "\n",
            "During the training phase, the SVM uses the labeled data to find the optimal hyperplane that maximally separates the classes in the feature space. Once the SVM is trained, it can be used for classification of new, unseen images by extracting features from those images and passing them through the trained SVM classifier.\n",
            "\n",
            "The SVM classifies new images by computing a score for each class based on the similarity between the image features and the features of the training samples in that class. The class with the highest score is then assigned to the input image.\n",
            "Can you show me code for image classification using SVM\n",
            "Here is some sample code for image classification using SVM in Python using the Scikit-Learn machine learning library:\n",
            "\n",
            "First, import the required libraries:\n",
            "\n",
            "```python\n",
            "import numpy as np\n",
            "from sklearn import svm, metrics\n",
            "from sklearn.model_selection import train_test_split\n",
            "from sklearn.datasets import load_digits\n",
            "```\n",
            "\n",
            "Load the data and split it into training and testing sets:\n",
            "\n",
            "```python\n",
            "digits = load_digits()  # load dataset\n",
            "X = digits.images.reshape((len(digits.images), -1))  # flatten the images\n",
            "y = digits.target\n",
            "# Split the data into training and testing sets\n",
            "X_train, X_test, y_train, y_test = train_test_split(X, y, test_size=0.2, random_state=42)\n",
            "```\n",
            "\n",
            "Create a SVM classifier and train it on the training set:\n",
            "\n",
            "```python\n",
            "# Create a classifier\n",
            "svm_clf = svm.SVC(kernel='linear', C=1)\n",
            "\n",
            "# Train the classifier on the training set\n",
            "svm_clf.fit(X_train, y_train)\n",
            "```\n",
            "\n",
            "Test the trained classifier on the testing set and compute its accuracy:\n",
            "\n",
            "```python\n",
            "# Predict the classes of the test set using the trained classifier\n",
            "y_pred = svm_clf.predict(X_test)\n",
            "\n",
            "# Compute and print the classification metrics\n",
            "print(\"Classification report for classifier %s:\\n%s\\n\"\n",
            "      % (svm_clf, metrics.classification_report(y_test, y_pred)))\n",
            "```\n",
            "\n",
            "This code can be modified to work with other image datasets, by replacing the `digits` dataset with another image dataset and adapting the feature extraction and preprocessing steps accordingly.\n"
          ]
        },
        {
          "output_type": "error",
          "ename": "KeyboardInterrupt",
          "evalue": "ignored",
          "traceback": [
            "\u001b[0;31m---------------------------------------------------------------------------\u001b[0m",
            "\u001b[0;31mKeyboardInterrupt\u001b[0m                         Traceback (most recent call last)",
            "\u001b[0;32m<ipython-input-47-cfa23c1d800e>\u001b[0m in \u001b[0;36m<module>\u001b[0;34m\u001b[0m\n\u001b[1;32m      1\u001b[0m \u001b[0;32mwhile\u001b[0m \u001b[0;32mTrue\u001b[0m\u001b[0;34m:\u001b[0m\u001b[0;34m\u001b[0m\u001b[0;34m\u001b[0m\u001b[0m\n\u001b[0;32m----> 2\u001b[0;31m   \u001b[0mtext\u001b[0m\u001b[0;34m=\u001b[0m\u001b[0minput\u001b[0m\u001b[0;34m(\u001b[0m\u001b[0;34m)\u001b[0m\u001b[0;34m\u001b[0m\u001b[0;34m\u001b[0m\u001b[0m\n\u001b[0m\u001b[1;32m      3\u001b[0m   \u001b[0mmessage\u001b[0m\u001b[0;34m=\u001b[0m\u001b[0;34m{\u001b[0m\u001b[0;34m\"role\"\u001b[0m\u001b[0;34m:\u001b[0m\u001b[0;34m\"user\"\u001b[0m\u001b[0;34m,\u001b[0m\u001b[0;34m\"content\"\u001b[0m\u001b[0;34m:\u001b[0m\u001b[0mtext\u001b[0m\u001b[0;34m}\u001b[0m\u001b[0;34m\u001b[0m\u001b[0;34m\u001b[0m\u001b[0m\n\u001b[1;32m      4\u001b[0m   \u001b[0mmessages\u001b[0m\u001b[0;34m.\u001b[0m\u001b[0mappend\u001b[0m\u001b[0;34m(\u001b[0m\u001b[0mmessage\u001b[0m\u001b[0;34m)\u001b[0m\u001b[0;34m\u001b[0m\u001b[0;34m\u001b[0m\u001b[0m\n\u001b[1;32m      5\u001b[0m   \u001b[0mresponse\u001b[0m \u001b[0;34m=\u001b[0m \u001b[0mopenai\u001b[0m\u001b[0;34m.\u001b[0m\u001b[0mChatCompletion\u001b[0m\u001b[0;34m.\u001b[0m\u001b[0mcreate\u001b[0m\u001b[0;34m(\u001b[0m \u001b[0mmodel\u001b[0m\u001b[0;34m=\u001b[0m\u001b[0;34m\"gpt-3.5-turbo\"\u001b[0m\u001b[0;34m,\u001b[0m \u001b[0mmessages\u001b[0m\u001b[0;34m=\u001b[0m\u001b[0mmessages\u001b[0m \u001b[0;34m)\u001b[0m\u001b[0;34m\u001b[0m\u001b[0;34m\u001b[0m\u001b[0m\n",
            "\u001b[0;32m/usr/local/lib/python3.8/dist-packages/ipykernel/kernelbase.py\u001b[0m in \u001b[0;36mraw_input\u001b[0;34m(self, prompt)\u001b[0m\n\u001b[1;32m    858\u001b[0m                 \u001b[0;34m\"raw_input was called, but this frontend does not support input requests.\"\u001b[0m\u001b[0;34m\u001b[0m\u001b[0;34m\u001b[0m\u001b[0m\n\u001b[1;32m    859\u001b[0m             )\n\u001b[0;32m--> 860\u001b[0;31m         return self._input_request(str(prompt),\n\u001b[0m\u001b[1;32m    861\u001b[0m             \u001b[0mself\u001b[0m\u001b[0;34m.\u001b[0m\u001b[0m_parent_ident\u001b[0m\u001b[0;34m,\u001b[0m\u001b[0;34m\u001b[0m\u001b[0;34m\u001b[0m\u001b[0m\n\u001b[1;32m    862\u001b[0m             \u001b[0mself\u001b[0m\u001b[0;34m.\u001b[0m\u001b[0m_parent_header\u001b[0m\u001b[0;34m,\u001b[0m\u001b[0;34m\u001b[0m\u001b[0;34m\u001b[0m\u001b[0m\n",
            "\u001b[0;32m/usr/local/lib/python3.8/dist-packages/ipykernel/kernelbase.py\u001b[0m in \u001b[0;36m_input_request\u001b[0;34m(self, prompt, ident, parent, password)\u001b[0m\n\u001b[1;32m    902\u001b[0m             \u001b[0;32mexcept\u001b[0m \u001b[0mKeyboardInterrupt\u001b[0m\u001b[0;34m:\u001b[0m\u001b[0;34m\u001b[0m\u001b[0;34m\u001b[0m\u001b[0m\n\u001b[1;32m    903\u001b[0m                 \u001b[0;31m# re-raise KeyboardInterrupt, to truncate traceback\u001b[0m\u001b[0;34m\u001b[0m\u001b[0;34m\u001b[0m\u001b[0;34m\u001b[0m\u001b[0m\n\u001b[0;32m--> 904\u001b[0;31m                 \u001b[0;32mraise\u001b[0m \u001b[0mKeyboardInterrupt\u001b[0m\u001b[0;34m(\u001b[0m\u001b[0;34m\"Interrupted by user\"\u001b[0m\u001b[0;34m)\u001b[0m \u001b[0;32mfrom\u001b[0m \u001b[0;32mNone\u001b[0m\u001b[0;34m\u001b[0m\u001b[0;34m\u001b[0m\u001b[0m\n\u001b[0m\u001b[1;32m    905\u001b[0m             \u001b[0;32mexcept\u001b[0m \u001b[0mException\u001b[0m \u001b[0;32mas\u001b[0m \u001b[0me\u001b[0m\u001b[0;34m:\u001b[0m\u001b[0;34m\u001b[0m\u001b[0;34m\u001b[0m\u001b[0m\n\u001b[1;32m    906\u001b[0m                 \u001b[0mself\u001b[0m\u001b[0;34m.\u001b[0m\u001b[0mlog\u001b[0m\u001b[0;34m.\u001b[0m\u001b[0mwarning\u001b[0m\u001b[0;34m(\u001b[0m\u001b[0;34m\"Invalid Message:\"\u001b[0m\u001b[0;34m,\u001b[0m \u001b[0mexc_info\u001b[0m\u001b[0;34m=\u001b[0m\u001b[0;32mTrue\u001b[0m\u001b[0;34m)\u001b[0m\u001b[0;34m\u001b[0m\u001b[0;34m\u001b[0m\u001b[0m\n",
            "\u001b[0;31mKeyboardInterrupt\u001b[0m: Interrupted by user"
          ]
        }
      ]
    },
    {
      "cell_type": "code",
      "source": [],
      "metadata": {
        "id": "p-2TmpMoXfSK"
      },
      "execution_count": null,
      "outputs": []
    }
  ]
}